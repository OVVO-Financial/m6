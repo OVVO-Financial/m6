{
  "nbformat": 4,
  "nbformat_minor": 0,
  "metadata": {
    "colab": {
      "name": "auto_completion_example.ipynb",
      "provenance": [],
      "include_colab_link": true
    },
    "kernelspec": {
      "name": "python3",
      "display_name": "Python 3"
    },
    "language_info": {
      "name": "python"
    }
  },
  "cells": [
    {
      "cell_type": "markdown",
      "metadata": {
        "id": "view-in-github",
        "colab_type": "text"
      },
      "source": [
        "<a href=\"https://colab.research.google.com/github/microprediction/m6/blob/main/notebook_examples/auto_completion_example_more_detail.ipynb\" target=\"_parent\"><img src=\"https://colab.research.google.com/assets/colab-badge.svg\" alt=\"Open In Colab\"/></a>"
      ]
    },
    {
      "cell_type": "code",
      "execution_count": null,
      "metadata": {
        "id": "cWheRGigwVKD"
      },
      "outputs": [],
      "source": [
        "!pip install --upgrade git+https://github.com/microprediction/winning.git"
      ]
    },
    {
      "cell_type": "code",
      "source": [
        "!pip install --upgrade scipy\n",
        "!pip install array-to-latex"
      ],
      "metadata": {
        "id": "PkTkb6yJxOm2"
      },
      "execution_count": null,
      "outputs": []
    },
    {
      "cell_type": "markdown",
      "source": [
        "### Fill table of 5-way rank probabilities from \"best stock\" probabilities"
      ],
      "metadata": {
        "id": "_Yb8FrZUb1zl"
      }
    },
    {
      "cell_type": "code",
      "source": [
        "from winning.lattice import skew_normal_density\n",
        "from winning.lattice_plot import densitiesPlot\n",
        "from pprint import pprint\n"
      ],
      "metadata": {
        "id": "FfIktzvYwgTr"
      },
      "execution_count": 3,
      "outputs": []
    },
    {
      "cell_type": "markdown",
      "source": [
        "We infer 5-way rank probabilities from the probability that a stock will perform the best. \n",
        "\n",
        "This method assumes that you believe stocks have the same return distribution (one month hence) up to a translation. Of course this isn't the only assumption that might be applied. See the other notebooks. \n",
        "\n",
        "\n"
      ],
      "metadata": {
        "id": "JSGcS1NbcCQ1"
      }
    },
    {
      "cell_type": "code",
      "source": [
        "a = 1.0 # Skew parameter \n",
        "unit = 0.1 # Lattice step size\n",
        "density = skew_normal_density(L=100, unit=unit, scale=1.0, loc=0, a=a)\n",
        "assets = ['Asset '+str(i) for i in range(1,6)]\n",
        "p = [ 0.25, 0.15, 0.2, 0.22, 0.18 ] # Probability of being lowest return stock"
      ],
      "metadata": {
        "id": "0fP22EnZxMMV"
      },
      "execution_count": 4,
      "outputs": []
    },
    {
      "cell_type": "markdown",
      "source": [
        "Infer relative location parameters, called \"abilities\" here\n"
      ],
      "metadata": {
        "id": "M2IJNAjV1pMr"
      }
    },
    {
      "cell_type": "code",
      "source": [
        "from winning.lattice_calibration import state_price_implied_ability\n",
        "abilities = state_price_implied_ability(density=density, prices=p, unit=unit)\n",
        "print(abilities)"
      ],
      "metadata": {
        "colab": {
          "base_uri": "https://localhost:8080/"
        },
        "id": "wK1-NSiJz8Bb",
        "outputId": "aa625ff0-774f-4bff-9bb8-71d7c35f97d4"
      },
      "execution_count": 7,
      "outputs": [
        {
          "output_type": "stream",
          "name": "stdout",
          "text": [
            "[-0.1252758619314367, 0.15478077051750955, -0.00043075891387986826, -0.05180244063169709, 0.05860177767709518]\n"
          ]
        }
      ]
    },
    {
      "cell_type": "markdown",
      "source": [
        "Plot the offset densities"
      ],
      "metadata": {
        "id": "dLlMdEo72VoX"
      }
    },
    {
      "cell_type": "code",
      "source": [
        "from winning.lattice import densities_from_offsets\n",
        "densities = densities_from_offsets( density=density, offsets = [abl/unit for abl in abilities])\n",
        "densitiesPlot(densities=densities,unit=0.1,legend=assets)"
      ],
      "metadata": {
        "colab": {
          "base_uri": "https://localhost:8080/",
          "height": 265
        },
        "id": "HArhl4qEzeDy",
        "outputId": "a89a6e22-54e0-4970-9647-7328a71e4acb"
      },
      "execution_count": 8,
      "outputs": [
        {
          "output_type": "display_data",
          "data": {
            "image/png": "[encoded data removed]",
            "text/plain": [
              "<Figure size 432x288 with 1 Axes>"
            ]
          },
          "metadata": {
            "needs_background": "light"
          }
        }
      ]
    },
    {
      "cell_type": "code",
      "source": [
        "from winning.lattice_copula import gaussian_copula_five\n",
        "import time \n",
        "st = time.time()\n",
        "rank_probs = gaussian_copula_five(densities, rho=0.0)\n",
        "print({'elapsed':time.time()-st})\n"
      ],
      "metadata": {
        "colab": {
          "base_uri": "https://localhost:8080/"
        },
        "id": "PjUJOMbzxgoa",
        "outputId": "cc156c9b-4e5e-494b-93dc-4dddceeeff22"
      },
      "execution_count": null,
      "outputs": [
        {
          "output_type": "stream",
          "name": "stdout",
          "text": [
            "{'elapsed': 1.0733675956726074}\n"
          ]
        }
      ]
    },
    {
      "cell_type": "markdown",
      "source": [
        "We show the 5-way rank probabilties and check that the probability of a stock being the worst is roughly the same as what we assumed at the outset, at least with rho=0 "
      ],
      "metadata": {
        "id": "vOf1ssVN247t"
      }
    },
    {
      "cell_type": "code",
      "source": [
        "import pandas as pd\n",
        "index = ['Rank '+str(i) for i in range(1,6)]\n",
        "df = pd.DataFrame(columns=assets,data=rank_probs, index=index).transpose()\n",
        "df['p']=p\n",
        "df['Rank 1 - p'] = df['Rank 1']-df['p']\n",
        "df"
      ],
      "metadata": {
        "id": "PTvl7tb2RU8R",
        "colab": {
          "base_uri": "https://localhost:8080/",
          "height": 206
        },
        "outputId": "6401a837-95bd-4307-f3ca-ffdf703a511d"
      },
      "execution_count": null,
      "outputs": [
        {
          "output_type": "execute_result",
          "data": {
            "text/html": [
              "<div>\n",
              "<style scoped>\n",
              "    .dataframe tbody tr th:only-of-type {\n",
              "        vertical-align: middle;\n",
              "    }\n",
              "\n",
              "    .dataframe tbody tr th {\n",
              "        vertical-align: top;\n",
              "    }\n",
              "\n",
              "    .dataframe thead th {\n",
              "        text-align: right;\n",
              "    }\n",
              "</style>\n",
              "<table border=\"1\" class=\"dataframe\">\n",
              "  <thead>\n",
              "    <tr style=\"text-align: right;\">\n",
              "      <th></th>\n",
              "      <th>Rank 1</th>\n",
              "      <th>Rank 2</th>\n",
              "      <th>Rank 3</th>\n",
              "      <th>Rank 4</th>\n",
              "      <th>Rank 5</th>\n",
              "      <th>p</th>\n",
              "      <th>Rank 1 - p</th>\n",
              "    </tr>\n",
              "  </thead>\n",
              "  <tbody>\n",
              "    <tr>\n",
              "      <th>Asset 1</th>\n",
              "      <td>0.249921</td>\n",
              "      <td>0.217607</td>\n",
              "      <td>0.196883</td>\n",
              "      <td>0.178508</td>\n",
              "      <td>0.157080</td>\n",
              "      <td>0.25</td>\n",
              "      <td>-0.000079</td>\n",
              "    </tr>\n",
              "    <tr>\n",
              "      <th>Asset 2</th>\n",
              "      <td>0.150013</td>\n",
              "      <td>0.177024</td>\n",
              "      <td>0.198608</td>\n",
              "      <td>0.221234</td>\n",
              "      <td>0.253121</td>\n",
              "      <td>0.15</td>\n",
              "      <td>0.000013</td>\n",
              "    </tr>\n",
              "    <tr>\n",
              "      <th>Asset 3</th>\n",
              "      <td>0.200188</td>\n",
              "      <td>0.202625</td>\n",
              "      <td>0.202135</td>\n",
              "      <td>0.200010</td>\n",
              "      <td>0.195042</td>\n",
              "      <td>0.20</td>\n",
              "      <td>0.000188</td>\n",
              "    </tr>\n",
              "    <tr>\n",
              "      <th>Asset 4</th>\n",
              "      <td>0.219905</td>\n",
              "      <td>0.209403</td>\n",
              "      <td>0.200539</td>\n",
              "      <td>0.191319</td>\n",
              "      <td>0.178833</td>\n",
              "      <td>0.22</td>\n",
              "      <td>-0.000095</td>\n",
              "    </tr>\n",
              "    <tr>\n",
              "      <th>Asset 5</th>\n",
              "      <td>0.179973</td>\n",
              "      <td>0.193341</td>\n",
              "      <td>0.201834</td>\n",
              "      <td>0.208928</td>\n",
              "      <td>0.215923</td>\n",
              "      <td>0.18</td>\n",
              "      <td>-0.000027</td>\n",
              "    </tr>\n",
              "  </tbody>\n",
              "</table>\n",
              "</div>"
            ],
            "text/plain": [
              "           Rank 1    Rank 2    Rank 3    Rank 4    Rank 5     p  Rank 1 - p\n",
              "Asset 1  0.249921  0.217607  0.196883  0.178508  0.157080  0.25   -0.000079\n",
              "Asset 2  0.150013  0.177024  0.198608  0.221234  0.253121  0.15    0.000013\n",
              "Asset 3  0.200188  0.202625  0.202135  0.200010  0.195042  0.20    0.000188\n",
              "Asset 4  0.219905  0.209403  0.200539  0.191319  0.178833  0.22   -0.000095\n",
              "Asset 5  0.179973  0.193341  0.201834  0.208928  0.215923  0.18   -0.000027"
            ]
          },
          "metadata": {},
          "execution_count": 38
        }
      ]
    },
    {
      "cell_type": "markdown",
      "source": [
        "Next we'll assume 25% correlation between the assets (or technically, between auxiliary random N(0,1) variables ... not the assets themselves ... see the paper)\n"
      ],
      "metadata": {
        "id": "GoMy07IZ3RNx"
      }
    },
    {
      "cell_type": "code",
      "source": [
        "rank_probs = gaussian_copula_five(densities, rho=0.25)\n",
        "df = pd.DataFrame(columns=assets,data=rank_probs, index=index).transpose()\n",
        "df['p']=p\n",
        "df['Rank 1 - p'] = df['Rank 1']-df['p']\n",
        "df"
      ],
      "metadata": {
        "colab": {
          "base_uri": "https://localhost:8080/",
          "height": 206
        },
        "id": "p1KcOSjw3KEj",
        "outputId": "62673949-e055-4133-f1dd-53f2fc5e12fd"
      },
      "execution_count": null,
      "outputs": [
        {
          "output_type": "execute_result",
          "data": {
            "text/html": [
              "<div>\n",
              "<style scoped>\n",
              "    .dataframe tbody tr th:only-of-type {\n",
              "        vertical-align: middle;\n",
              "    }\n",
              "\n",
              "    .dataframe tbody tr th {\n",
              "        vertical-align: top;\n",
              "    }\n",
              "\n",
              "    .dataframe thead th {\n",
              "        text-align: right;\n",
              "    }\n",
              "</style>\n",
              "<table border=\"1\" class=\"dataframe\">\n",
              "  <thead>\n",
              "    <tr style=\"text-align: right;\">\n",
              "      <th></th>\n",
              "      <th>Rank 1</th>\n",
              "      <th>Rank 2</th>\n",
              "      <th>Rank 3</th>\n",
              "      <th>Rank 4</th>\n",
              "      <th>Rank 5</th>\n",
              "      <th>p</th>\n",
              "      <th>Rank 1 - p</th>\n",
              "    </tr>\n",
              "  </thead>\n",
              "  <tbody>\n",
              "    <tr>\n",
              "      <th>Asset 1</th>\n",
              "      <td>0.251548</td>\n",
              "      <td>0.218146</td>\n",
              "      <td>0.196772</td>\n",
              "      <td>0.177823</td>\n",
              "      <td>0.155711</td>\n",
              "      <td>0.25</td>\n",
              "      <td>0.001548</td>\n",
              "    </tr>\n",
              "    <tr>\n",
              "      <th>Asset 2</th>\n",
              "      <td>0.148556</td>\n",
              "      <td>0.176222</td>\n",
              "      <td>0.198422</td>\n",
              "      <td>0.221803</td>\n",
              "      <td>0.254997</td>\n",
              "      <td>0.15</td>\n",
              "      <td>-0.001444</td>\n",
              "    </tr>\n",
              "    <tr>\n",
              "      <th>Asset 3</th>\n",
              "      <td>0.200127</td>\n",
              "      <td>0.202743</td>\n",
              "      <td>0.202264</td>\n",
              "      <td>0.200052</td>\n",
              "      <td>0.194814</td>\n",
              "      <td>0.20</td>\n",
              "      <td>0.000127</td>\n",
              "    </tr>\n",
              "    <tr>\n",
              "      <th>Asset 4</th>\n",
              "      <td>0.220472</td>\n",
              "      <td>0.209751</td>\n",
              "      <td>0.200620</td>\n",
              "      <td>0.191076</td>\n",
              "      <td>0.178081</td>\n",
              "      <td>0.22</td>\n",
              "      <td>0.000472</td>\n",
              "    </tr>\n",
              "    <tr>\n",
              "      <th>Asset 5</th>\n",
              "      <td>0.179297</td>\n",
              "      <td>0.193138</td>\n",
              "      <td>0.201922</td>\n",
              "      <td>0.209246</td>\n",
              "      <td>0.216397</td>\n",
              "      <td>0.18</td>\n",
              "      <td>-0.000703</td>\n",
              "    </tr>\n",
              "  </tbody>\n",
              "</table>\n",
              "</div>"
            ],
            "text/plain": [
              "           Rank 1    Rank 2    Rank 3    Rank 4    Rank 5     p  Rank 1 - p\n",
              "Asset 1  0.251548  0.218146  0.196772  0.177823  0.155711  0.25    0.001548\n",
              "Asset 2  0.148556  0.176222  0.198422  0.221803  0.254997  0.15   -0.001444\n",
              "Asset 3  0.200127  0.202743  0.202264  0.200052  0.194814  0.20    0.000127\n",
              "Asset 4  0.220472  0.209751  0.200620  0.191076  0.178081  0.22    0.000472\n",
              "Asset 5  0.179297  0.193138  0.201922  0.209246  0.216397  0.18   -0.000703"
            ]
          },
          "metadata": {},
          "execution_count": 26
        }
      ]
    },
    {
      "cell_type": "markdown",
      "source": [
        "That's pretty much the end of the show, although I need a few things below for writeup and comparisons elsewhere. \n",
        "\n",
        "You'll notice that this time the probability of the stock being the worst deviates a little more, but is still extremely close. In general the rank probabilities will be largely insensitive to the choice of correlation parameter rho, because this is something of an Urn game and the common factor increases or decreases their absolute probabilities by roughly the same amount. \n"
      ],
      "metadata": {
        "id": "SzIbtBFd3hLo"
      }
    },
    {
      "cell_type": "code",
      "source": [
        "import array_to_latex as a2l\n",
        "import numpy as np\n",
        "a2l.to_ltx(np.asarray(rank_probs), frmt = '{:6.3f}', arraytype = 'array')"
      ],
      "metadata": {
        "colab": {
          "base_uri": "https://localhost:8080/"
        },
        "id": "tMLRB_vpx_w-",
        "outputId": "6e001132-c93f-4f49-e915-f3baee5fec5e"
      },
      "execution_count": null,
      "outputs": [
        {
          "output_type": "stream",
          "name": "stdout",
          "text": [
            "\\begin{array}\n",
            "   0.252 &   0.149 &   0.200 &   0.220 &   0.179\\\\\n",
            "   0.218 &   0.176 &   0.203 &   0.210 &   0.193\\\\\n",
            "   0.197 &   0.198 &   0.202 &   0.201 &   0.202\\\\\n",
            "   0.178 &   0.222 &   0.200 &   0.191 &   0.209\\\\\n",
            "   0.156 &   0.255 &   0.195 &   0.178 &   0.216\n",
            "\\end{array}\n"
          ]
        }
      ]
    },
    {
      "cell_type": "code",
      "source": [
        "a2l.to_ltx(df, frmt = '{:6.3f}')"
      ],
      "metadata": {
        "colab": {
          "base_uri": "https://localhost:8080/"
        },
        "id": "IflofaBLSWEY",
        "outputId": "0afbad5e-98db-4921-ce03-3a8074850fbb"
      },
      "execution_count": null,
      "outputs": [
        {
          "output_type": "stream",
          "name": "stdout",
          "text": [
            "\\begin{tabular}{lrrrrrrr}\n",
            "\\toprule\n",
            "     & Rank 1 & Rank 2 & Rank 3 & Rank 4 & Rank 5 & p & Rank 1 - p \\\\\\n\\midrule\n",
            " Asset 1 &   0.252 &   0.218 &   0.197 &   0.178 &   0.156 &   0.250 &   0.002\\\\\n",
            " Asset 2 &   0.149 &   0.176 &   0.198 &   0.222 &   0.255 &   0.150 & -0.001\\\\\n",
            " Asset 3 &   0.200 &   0.203 &   0.202 &   0.200 &   0.195 &   0.200 &   0.000\\\\\n",
            " Asset 4 &   0.220 &   0.210 &   0.201 &   0.191 &   0.178 &   0.220 &   0.000\\\\\n",
            " Asset 5 &   0.179 &   0.193 &   0.202 &   0.209 &   0.216 &   0.180 & -0.001\\\\\n",
            "\\bottomrule\n",
            "\\end{tabular}\n"
          ]
        }
      ]
    },
    {
      "cell_type": "code",
      "source": [
        "df_not = df.copy()\n",
        "for i in [2,3,4,5]:\n",
        "  df_not['Rank '+str(i)]=['?']*5\n",
        "del df_not['p']\n",
        "del df_not['Rank 1 - p']\n",
        "df_not"
      ],
      "metadata": {
        "colab": {
          "base_uri": "https://localhost:8080/",
          "height": 206
        },
        "id": "JbaxqXFb6LiN",
        "outputId": "c38d7557-a28d-42a4-e766-b735625c5de0"
      },
      "execution_count": null,
      "outputs": [
        {
          "output_type": "execute_result",
          "data": {
            "text/html": [
              "<div>\n",
              "<style scoped>\n",
              "    .dataframe tbody tr th:only-of-type {\n",
              "        vertical-align: middle;\n",
              "    }\n",
              "\n",
              "    .dataframe tbody tr th {\n",
              "        vertical-align: top;\n",
              "    }\n",
              "\n",
              "    .dataframe thead th {\n",
              "        text-align: right;\n",
              "    }\n",
              "</style>\n",
              "<table border=\"1\" class=\"dataframe\">\n",
              "  <thead>\n",
              "    <tr style=\"text-align: right;\">\n",
              "      <th></th>\n",
              "      <th>Rank 1</th>\n",
              "      <th>Rank 2</th>\n",
              "      <th>Rank 3</th>\n",
              "      <th>Rank 4</th>\n",
              "      <th>Rank 5</th>\n",
              "    </tr>\n",
              "  </thead>\n",
              "  <tbody>\n",
              "    <tr>\n",
              "      <th>Asset 1</th>\n",
              "      <td>0.251548</td>\n",
              "      <td>?</td>\n",
              "      <td>?</td>\n",
              "      <td>?</td>\n",
              "      <td>?</td>\n",
              "    </tr>\n",
              "    <tr>\n",
              "      <th>Asset 2</th>\n",
              "      <td>0.148556</td>\n",
              "      <td>?</td>\n",
              "      <td>?</td>\n",
              "      <td>?</td>\n",
              "      <td>?</td>\n",
              "    </tr>\n",
              "    <tr>\n",
              "      <th>Asset 3</th>\n",
              "      <td>0.200127</td>\n",
              "      <td>?</td>\n",
              "      <td>?</td>\n",
              "      <td>?</td>\n",
              "      <td>?</td>\n",
              "    </tr>\n",
              "    <tr>\n",
              "      <th>Asset 4</th>\n",
              "      <td>0.220472</td>\n",
              "      <td>?</td>\n",
              "      <td>?</td>\n",
              "      <td>?</td>\n",
              "      <td>?</td>\n",
              "    </tr>\n",
              "    <tr>\n",
              "      <th>Asset 5</th>\n",
              "      <td>0.179297</td>\n",
              "      <td>?</td>\n",
              "      <td>?</td>\n",
              "      <td>?</td>\n",
              "      <td>?</td>\n",
              "    </tr>\n",
              "  </tbody>\n",
              "</table>\n",
              "</div>"
            ],
            "text/plain": [
              "           Rank 1 Rank 2 Rank 3 Rank 4 Rank 5\n",
              "Asset 1  0.251548      ?      ?      ?      ?\n",
              "Asset 2  0.148556      ?      ?      ?      ?\n",
              "Asset 3  0.200127      ?      ?      ?      ?\n",
              "Asset 4  0.220472      ?      ?      ?      ?\n",
              "Asset 5  0.179297      ?      ?      ?      ?"
            ]
          },
          "metadata": {},
          "execution_count": 34
        }
      ]
    },
    {
      "cell_type": "code",
      "source": [
        "a2l.to_ltx(df_not)"
      ],
      "metadata": {
        "colab": {
          "base_uri": "https://localhost:8080/"
        },
        "id": "70kVULw5z1Mh",
        "outputId": "fe1de58c-386a-461e-8195-f91f15060769"
      },
      "execution_count": null,
      "outputs": [
        {
          "output_type": "stream",
          "name": "stdout",
          "text": [
            "\\begin{tabular}{lrrrrr}\n",
            "\\toprule\n",
            "     & Rank 1 & Rank 2 & Rank 3 & Rank 4 & Rank 5 \\\\\\n\\midrule\n",
            " Asset 1 &  0.25 &  ? &  ? &  ? &  ?\\\\\n",
            " Asset 2 &  0.15 &  ? &  ? &  ? &  ?\\\\\n",
            " Asset 3 &  0.20 &  ? &  ? &  ? &  ?\\\\\n",
            " Asset 4 &  0.22 &  ? &  ? &  ? &  ?\\\\\n",
            " Asset 5 &  0.18 &  ? &  ? &  ? &  ?\\\\\n",
            "\\bottomrule\n",
            "\\end{tabular}\n"
          ]
        }
      ]
    },
    {
      "cell_type": "markdown",
      "source": [
        "Now adding some more output by request..."
      ],
      "metadata": {
        "id": "4yKmYRlK0kZ5"
      }
    },
    {
      "cell_type": "code",
      "source": [
        "pprint(densities)"
      ],
      "metadata": {
        "id": "SxxEVlkZ0o1E",
        "outputId": "1757b2fd-70d9-4537-ed52-4a0589e5a545",
        "colab": {
          "base_uri": "https://localhost:8080/"
        }
      },
      "execution_count": 9,
      "outputs": [
        {
          "output_type": "stream",
          "name": "stdout",
          "text": [
            "[array([1.81291556e-40, 9.74230351e-40, 6.06599057e-39, 3.70301914e-38,\n",
            "       2.21628614e-37, 1.30050756e-36, 7.48201656e-36, 4.22031406e-35,\n",
            "       2.33395684e-34, 1.26550677e-33, 6.72761941e-33, 3.50659313e-32,\n",
            "       1.79200051e-31, 8.97886571e-31, 4.41100213e-30, 2.12465000e-29,\n",
            "       1.00339932e-28, 4.64620615e-28, 2.10942189e-27, 9.39011286e-27,\n",
            "       4.09847899e-26, 1.75396673e-25, 7.35985051e-25, 3.02808431e-24,\n",
            "       1.22157645e-23, 4.83202896e-23, 1.87411883e-22, 7.12731670e-22,\n",
            "       2.65777995e-21, 9.71804256e-21, 3.48424157e-20, 1.22492746e-19,\n",
            "       4.22268034e-19, 1.42739751e-18, 4.73133657e-18, 1.53783003e-17,\n",
            "       4.90142030e-17, 1.53189264e-16, 4.69495345e-16, 1.41102523e-15,\n",
            "       4.15855936e-15, 1.20187676e-14, 3.40635832e-14, 9.46757421e-14,\n",
            "       2.58053610e-13, 6.89777524e-13, 1.80817846e-12, 4.64849328e-12,\n",
            "       1.17199984e-11, 2.89796651e-11, 7.02774444e-11, 1.67148306e-10,\n",
            "       3.89904618e-10, 8.92056720e-10, 2.00175966e-09, 4.40580076e-09,\n",
            "       9.51129697e-09, 2.01402828e-08, 4.18323031e-08, 8.52291893e-08,\n",
            "       1.70335767e-07, 3.33945349e-07, 6.42256920e-07, 1.21176530e-06,\n",
            "       2.24294065e-06, 4.07305837e-06, 7.25674647e-06, 1.26852066e-05,\n",
            "       2.17572608e-05, 3.66167546e-05, 6.04704868e-05, 9.79975754e-05,\n",
            "       1.55853676e-04, 2.43260536e-04, 3.72652251e-04, 5.60324448e-04,\n",
            "       8.27003171e-04, 1.19821992e-03, 1.70435360e-03, 2.38018634e-03,\n",
            "       3.26382585e-03, 4.39487981e-03, 5.81183161e-03, 7.54866178e-03,\n",
            "       9.63087843e-03, 1.20712496e-02, 1.48656500e-02, 1.79895221e-02,\n",
            "       2.13954811e-02, 2.50125526e-02, 2.87474057e-02, 3.24877517e-02,\n",
            "       3.61078258e-02, 3.94756048e-02, 4.24611687e-02, 4.49454330e-02,\n",
            "       4.68283923e-02, 4.80360453e-02, 4.85253087e-02, 4.82864592e-02,\n",
            "       4.73429278e-02, 4.57485725e-02, 4.35828171e-02, 4.09442508e-02,\n",
            "       3.79433869e-02, 3.46952990e-02, 3.13127763e-02, 2.79005074e-02,\n",
            "       2.45506224e-02, 2.13397417e-02, 1.83275126e-02, 1.55564785e-02,\n",
            "       1.30530371e-02, 1.08291986e-02, 8.88484480e-03, 7.21022120e-03,\n",
            "       5.78843287e-03, 4.59777437e-03, 3.61377822e-03, 2.81091835e-03,\n",
            "       2.16394803e-03, 1.64888398e-03, 1.24367049e-03, 9.28570590e-04,\n",
            "       6.86336441e-04, 5.02211075e-04, 3.63809574e-04, 2.60921323e-04,\n",
            "       1.85267642e-04, 1.30241512e-04, 9.06490215e-05, 6.24659886e-05,\n",
            "       4.26180030e-05, 2.87881085e-05, 1.92532856e-05, 1.27487925e-05,\n",
            "       8.35807526e-06, 5.42521434e-06, 3.48659232e-06, 2.21849899e-06,\n",
            "       1.39762673e-06, 8.71760331e-07, 5.38365194e-07, 3.29178009e-07,\n",
            "       1.99277657e-07, 1.19442900e-07, 7.08820026e-08, 4.16471699e-08,\n",
            "       2.42275141e-08, 1.39542348e-08, 7.95750599e-09, 4.49284721e-09,\n",
            "       2.51153942e-09, 1.39005518e-09, 7.61724128e-10, 4.13272860e-10,\n",
            "       2.21998420e-10, 1.18068888e-10, 6.21722673e-11, 3.24136273e-11,\n",
            "       1.67316161e-11, 8.55104876e-12, 4.32665015e-12, 2.16782148e-12,\n",
            "       1.07513998e-12, 5.28133093e-13, 2.56905608e-13, 1.23567823e-13,\n",
            "       5.89528426e-14, 2.77555756e-14, 1.28785871e-14, 6.21724894e-15,\n",
            "       2.66453526e-15, 1.11022302e-15, 6.66133815e-16, 2.22044605e-16,\n",
            "       0.00000000e+00, 0.00000000e+00, 0.00000000e+00, 0.00000000e+00,\n",
            "       0.00000000e+00, 0.00000000e+00, 0.00000000e+00, 0.00000000e+00,\n",
            "       0.00000000e+00, 0.00000000e+00, 0.00000000e+00, 0.00000000e+00,\n",
            "       0.00000000e+00, 0.00000000e+00, 0.00000000e+00, 0.00000000e+00,\n",
            "       0.00000000e+00, 0.00000000e+00, 0.00000000e+00, 0.00000000e+00,\n",
            "       0.00000000e+00, 0.00000000e+00, 0.00000000e+00, 0.00000000e+00,\n",
            "       0.00000000e+00]),\n",
            " array([0.00000000e+00, 5.22657341e-42, 3.55467588e-41, 2.23465375e-40,\n",
            "       1.41475811e-39, 8.78118139e-39, 5.34347811e-38, 3.18784366e-37,\n",
            "       1.86454766e-36, 1.06919050e-35, 6.01095525e-35, 3.31314481e-34,\n",
            "       1.79038988e-33, 9.48564531e-33, 4.92719854e-32, 2.50927955e-31,\n",
            "       1.25289815e-30, 6.13341305e-30, 2.94381435e-29, 1.38529565e-28,\n",
            "       6.39146656e-28, 2.89125747e-27, 1.28234085e-26, 5.57638784e-26,\n",
            "       2.37759371e-25, 9.93939506e-25, 4.07401317e-24, 1.63729779e-23,\n",
            "       6.45176255e-23, 2.49274177e-22, 9.44337578e-22, 3.50777117e-21,\n",
            "       1.27759225e-20, 4.56261099e-20, 1.59771020e-19, 5.48591792e-19,\n",
            "       1.84701654e-18, 6.09769950e-18, 1.97396162e-17, 6.26603291e-17,\n",
            "       1.95043683e-16, 5.95333706e-16, 1.78189739e-15, 5.23001561e-15,\n",
            "       1.50531004e-14, 4.24870330e-14, 1.17597830e-13, 3.19197779e-13,\n",
            "       8.49656673e-13, 2.21797059e-12, 5.67809531e-12, 1.42557577e-11,\n",
            "       3.51014523e-11, 8.47644485e-11, 2.00753581e-10, 4.66316880e-10,\n",
            "       1.06236797e-09, 2.37384796e-09, 5.20263602e-09, 1.11839584e-08,\n",
            "       2.35818899e-08, 4.87733447e-08, 9.89504504e-08, 1.96922491e-07,\n",
            "       3.84438425e-07, 7.36248547e-07, 1.38325189e-06, 2.54959373e-06,\n",
            "       4.61050089e-06, 8.17990123e-06, 1.42392517e-05, 2.43210756e-05,\n",
            "       4.07617962e-05, 6.70375858e-05, 1.08192904e-04, 1.71362874e-04,\n",
            "       2.66376490e-04, 4.06407254e-04, 6.08611709e-04, 8.94666455e-04,\n",
            "       1.29108446e-03, 1.82916781e-03, 2.54444368e-03, 3.47544116e-03,\n",
            "       4.66170566e-03, 6.14101759e-03, 7.94588281e-03, 1.00994841e-02,\n",
            "       1.26114117e-02, 1.54736057e-02, 1.86570191e-02, 2.21095281e-02,\n",
            "       2.57555556e-02, 2.94977377e-02, 3.32207510e-02, 3.67971686e-02,\n",
            "       4.00949431e-02, 4.29858857e-02, 4.53543437e-02, 4.71052195e-02,\n",
            "       4.81705210e-02, 4.85137949e-02, 4.81320388e-02, 4.70549748e-02,\n",
            "       4.53418693e-02, 4.30763295e-02, 4.03596989e-02, 3.73037571e-02,\n",
            "       3.40234319e-02, 3.06301408e-02, 2.72262362e-02, 2.39008463e-02,\n",
            "       2.07272280e-02, 1.77615802e-02, 1.50431452e-02, 1.25953411e-02,\n",
            "       1.04276342e-02, 8.53785720e-03, 6.91471063e-03, 5.54023265e-03,\n",
            "       4.39207644e-03, 3.44549134e-03, 2.67495317e-03, 2.05543005e-03,\n",
            "       1.56330041e-03, 1.17696009e-03, 8.77166769e-04, 6.47174239e-04,\n",
            "       4.72707906e-04, 3.41828401e-04, 2.44723497e-04, 1.73461097e-04,\n",
            "       1.21728551e-04, 8.45766684e-05, 5.81807448e-05, 3.96260368e-05,\n",
            "       2.67212127e-05, 1.78404962e-05, 1.17932551e-05, 7.71857247e-06,\n",
            "       5.00169452e-06, 3.20903510e-06, 2.03849219e-06, 1.28209738e-06,\n",
            "       7.98381392e-07, 4.92240405e-07, 3.00484158e-07, 1.81611507e-07,\n",
            "       1.08678240e-07, 6.43901232e-08, 3.77722904e-08, 2.19383905e-08,\n",
            "       1.26157640e-08, 7.18289750e-09, 4.04914258e-09, 2.25997543e-09,\n",
            "       1.24888244e-09, 6.83308299e-10, 3.70159237e-10, 1.98535632e-10,\n",
            "       1.05430109e-10, 5.54329915e-11, 2.88568058e-11, 1.48732138e-11,\n",
            "       7.59003971e-12, 3.83482135e-12, 1.91846539e-12, 9.50128864e-13,\n",
            "       4.66071626e-13, 2.26263452e-13, 1.08690834e-13, 5.18474152e-14,\n",
            "       2.43138842e-14, 1.15463195e-14, 5.21804822e-15, 2.33146835e-15,\n",
            "       1.11022302e-15, 4.44089210e-16, 2.22044605e-16, 0.00000000e+00,\n",
            "       0.00000000e+00, 0.00000000e+00, 0.00000000e+00, 0.00000000e+00,\n",
            "       0.00000000e+00, 0.00000000e+00, 0.00000000e+00, 0.00000000e+00,\n",
            "       0.00000000e+00, 0.00000000e+00, 0.00000000e+00, 0.00000000e+00,\n",
            "       0.00000000e+00, 0.00000000e+00, 0.00000000e+00, 0.00000000e+00,\n",
            "       0.00000000e+00, 0.00000000e+00, 0.00000000e+00, 0.00000000e+00,\n",
            "       0.00000000e+00]),\n",
            " array([1.18366010e-41, 6.61208264e-41, 4.25428471e-40, 2.68345272e-39,\n",
            "       1.65936367e-38, 1.00593656e-37, 5.97836148e-37, 3.48319300e-36,\n",
            "       1.98956418e-35, 1.11410138e-34, 6.11616449e-34, 3.29171835e-33,\n",
            "       1.73682744e-32, 8.98426675e-32, 4.55619274e-31, 2.26525234e-30,\n",
            "       1.10414919e-29, 5.27639467e-29, 2.47199085e-28, 1.13542461e-27,\n",
            "       5.11297246e-27, 2.25732565e-26, 9.77063007e-26, 4.14629843e-25,\n",
            "       1.72508418e-24, 7.03677990e-24, 2.81419280e-23, 1.10344905e-22,\n",
            "       4.24201026e-22, 1.59887555e-21, 5.90858853e-21, 2.14082756e-20,\n",
            "       7.60521163e-20, 2.64896077e-19, 9.04643366e-19, 3.02914522e-18,\n",
            "       9.94504824e-18, 3.20140947e-17, 1.01047751e-16, 3.12728086e-16,\n",
            "       9.48999097e-16, 2.82375765e-15, 8.23864818e-15, 2.35697947e-14,\n",
            "       6.61198005e-14, 1.81881258e-13, 4.90602839e-13, 1.29766650e-12,\n",
            "       3.36583285e-12, 8.56099327e-12, 2.13532482e-11, 5.22297848e-11,\n",
            "       1.25283434e-10, 2.94711542e-10, 6.79885908e-10, 1.53821848e-09,\n",
            "       3.41311716e-09, 7.42752422e-09, 1.58527880e-08, 3.31852733e-08,\n",
            "       6.81354791e-08, 1.37214486e-07, 2.71041947e-07, 5.25163773e-07,\n",
            "       9.98130253e-07, 1.86091754e-06, 3.40352174e-06, 6.10669620e-06,\n",
            "       1.07492039e-05, 1.85633047e-05, 3.14529334e-05, 5.22893083e-05,\n",
            "       8.52964115e-05, 1.36532584e-04, 2.14463079e-04, 3.30600852e-04,\n",
            "       5.00169012e-04, 7.42709419e-04, 1.08253087e-03, 1.54886220e-03,\n",
            "       2.17555738e-03, 3.00019915e-03, 4.06247278e-03, 5.40173740e-03,\n",
            "       7.05381066e-03, 9.04709757e-03, 1.13983249e-02, 1.41082693e-02,\n",
            "       1.71579658e-02, 2.05059338e-02, 2.40869322e-02, 2.78126551e-02,\n",
            "       3.15745939e-02, 3.52490545e-02, 3.87040437e-02, 4.18074853e-02,\n",
            "       4.44360191e-02, 4.64835256e-02, 4.78685177e-02, 4.85396523e-02,\n",
            "       4.84788334e-02, 4.77016547e-02, 4.62552363e-02, 4.42137905e-02,\n",
            "       4.16724754e-02, 3.87402268e-02, 3.55322995e-02, 3.21631918e-02,\n",
            "       2.87405029e-02, 2.53601022e-02, 2.21028008e-02, 1.90325415e-02,\n",
            "       1.61959802e-02, 1.36232270e-02, 1.13294605e-02, 9.31711597e-03,\n",
            "       7.57836318e-03, 6.09763641e-03, 4.85402931e-03, 3.82342712e-03,\n",
            "       2.98030143e-03, 2.29913787e-03, 1.75550252e-03, 1.32677715e-03,\n",
            "       9.92608584e-04, 7.35124036e-04, 5.38965614e-04, 3.91193340e-04,\n",
            "       2.81100294e-04, 1.99976033e-04, 1.40846811e-04, 9.82138543e-05,\n",
            "       6.78044713e-05, 4.63453428e-05, 3.13630117e-05, 2.10133142e-05,\n",
            "       1.39391844e-05, 9.15475679e-06, 5.95282803e-06, 3.83236831e-06,\n",
            "       2.44274837e-06, 1.54155119e-06, 9.63174546e-07, 5.95826660e-07,\n",
            "       3.64924313e-07, 2.21285842e-07, 1.32853328e-07, 7.89694738e-08,\n",
            "       4.64744279e-08, 2.70792647e-08, 1.56216786e-08, 8.92249963e-09,\n",
            "       5.04560682e-09, 2.82493373e-09, 1.56592561e-09, 8.59413429e-10,\n",
            "       4.66982786e-10, 2.51227927e-10, 1.33814404e-10, 7.05677738e-11,\n",
            "       3.68447495e-11, 1.90465421e-11, 9.74831327e-12, 4.93960428e-12,\n",
            "       2.47823984e-12, 1.23090427e-12, 6.05515638e-13, 2.94764213e-13,\n",
            "       1.42219569e-13, 6.77236045e-14, 3.21964677e-14, 1.47659662e-14,\n",
            "       7.10542736e-15, 3.10862447e-15, 1.33226763e-15, 7.77156117e-16,\n",
            "       3.33066907e-16, 0.00000000e+00, 0.00000000e+00, 0.00000000e+00,\n",
            "       0.00000000e+00, 0.00000000e+00, 0.00000000e+00, 0.00000000e+00,\n",
            "       0.00000000e+00, 0.00000000e+00, 0.00000000e+00, 0.00000000e+00,\n",
            "       0.00000000e+00, 0.00000000e+00, 0.00000000e+00, 0.00000000e+00,\n",
            "       0.00000000e+00, 0.00000000e+00, 0.00000000e+00, 0.00000000e+00,\n",
            "       0.00000000e+00, 0.00000000e+00, 0.00000000e+00, 0.00000000e+00,\n",
            "       0.00000000e+00]),\n",
            " array([4.50265833e-41, 2.46592586e-40, 1.56017424e-39, 9.67745302e-39,\n",
            "       5.88498585e-38, 3.50855020e-37, 2.05073462e-36, 1.17514739e-35,\n",
            "       6.60203742e-35, 3.63637011e-34, 1.96365131e-33, 1.03960566e-32,\n",
            "       5.39613366e-32, 2.74604996e-31, 1.37008579e-30, 6.70197273e-30,\n",
            "       3.21421662e-29, 1.51135782e-28, 6.96756876e-28, 3.14933770e-27,\n",
            "       1.39567231e-26, 6.06423855e-26, 2.58345003e-25, 1.07908905e-24,\n",
            "       4.41926933e-24, 1.77452543e-23, 6.98642894e-23, 2.69694628e-22,\n",
            "       1.02078959e-21, 3.78834924e-21, 1.37853142e-20, 4.91857563e-20,\n",
            "       1.72076402e-19, 5.90290666e-19, 1.98553079e-18, 6.54872943e-18,\n",
            "       2.11792659e-17, 6.71648506e-17, 2.08859628e-16, 6.36872353e-16,\n",
            "       1.90432054e-15, 5.58369824e-15, 1.60547193e-14, 4.52675739e-14,\n",
            "       1.25164303e-13, 3.39381180e-13, 9.02432023e-13, 2.35324103e-12,\n",
            "       6.01796207e-12, 1.50927998e-11, 3.71222253e-11, 8.95465400e-11,\n",
            "       2.11846524e-10, 4.91540205e-10, 1.11858690e-09, 2.49667254e-09,\n",
            "       5.46566756e-09, 1.17360960e-08, 2.47179481e-08, 5.10645497e-08,\n",
            "       1.03479774e-07, 2.05698643e-07, 4.01105950e-07, 7.67274737e-07,\n",
            "       1.43985881e-06, 2.65081846e-06, 4.78790813e-06, 8.48463024e-06,\n",
            "       1.47522347e-05, 2.51673787e-05, 4.21300548e-05, 6.92053541e-05,\n",
            "       1.11558333e-04, 1.76482387e-04, 2.74006957e-04, 4.17549620e-04,\n",
            "       6.24551105e-04, 9.17001784e-04, 1.32173861e-03, 1.87036840e-03,\n",
            "       2.59866425e-03, 3.54529437e-03, 4.74978360e-03, 6.24968032e-03,\n",
            "       8.07700360e-03, 1.02541686e-02, 1.27897167e-02, 1.56742890e-02,\n",
            "       1.88773567e-02, 2.23452316e-02, 2.60008174e-02, 2.97454187e-02,\n",
            "       3.34627105e-02, 3.70247173e-02, 4.02993838e-02, 4.31590923e-02,\n",
            "       4.54893232e-02, 4.71965989e-02, 4.82149107e-02, 4.85099943e-02,\n",
            "       4.80810653e-02, 4.69599229e-02, 4.52076185e-02, 4.29091404e-02,\n",
            "       4.01667411e-02, 3.70926183e-02, 3.38016517e-02, 3.04048061e-02,\n",
            "       2.70036624e-02, 2.36863582e-02, 2.05250401e-02, 1.75747686e-02,\n",
            "       1.48736963e-02, 1.24442578e-02, 1.02950797e-02, 8.42331824e-03,\n",
            "       6.81716399e-03, 5.45830293e-03, 4.32417653e-03, 3.38994064e-03,\n",
            "       2.63007171e-03, 2.01960877e-03, 1.53504967e-03, 1.15493930e-03,\n",
            "       8.60198611e-04, 6.34246981e-04, 4.62969049e-04, 3.34572520e-04,\n",
            "       2.39376672e-04, 1.69563812e-04, 1.18918463e-04, 8.25722134e-05,\n",
            "       5.67662061e-05, 3.86384029e-05, 2.60389402e-05, 1.73741411e-05,\n",
            "       1.14778368e-05, 7.50747563e-06, 4.86189263e-06, 3.11741477e-06,\n",
            "       1.97907279e-06, 1.24396169e-06, 7.74159352e-07, 4.77014831e-07,\n",
            "       2.91012453e-07, 1.75779995e-07, 1.05124876e-07, 6.22471845e-08,\n",
            "       3.64932111e-08, 2.11827618e-08, 1.21739412e-08, 6.92720281e-09,\n",
            "       3.90267774e-09, 2.17693530e-09, 1.20228216e-09, 6.57423449e-10,\n",
            "       3.55927843e-10, 1.90790495e-10, 1.01258113e-10, 5.32083266e-11,\n",
            "       2.76827450e-11, 1.42599266e-11, 7.27284899e-12, 3.67239572e-12,\n",
            "       1.83608684e-12, 9.09050613e-13, 4.45421477e-13, 2.16271445e-13,\n",
            "       1.03694830e-13, 4.95159469e-14, 2.33146835e-14, 1.07691633e-14,\n",
            "       5.10702591e-15, 2.10942375e-15, 9.99200722e-16, 5.55111512e-16,\n",
            "       2.22044605e-16, 0.00000000e+00, 0.00000000e+00, 0.00000000e+00,\n",
            "       0.00000000e+00, 0.00000000e+00, 0.00000000e+00, 0.00000000e+00,\n",
            "       0.00000000e+00, 0.00000000e+00, 0.00000000e+00, 0.00000000e+00,\n",
            "       0.00000000e+00, 0.00000000e+00, 0.00000000e+00, 0.00000000e+00,\n",
            "       0.00000000e+00, 0.00000000e+00, 0.00000000e+00, 0.00000000e+00,\n",
            "       0.00000000e+00, 0.00000000e+00, 0.00000000e+00, 0.00000000e+00,\n",
            "       0.00000000e+00]),\n",
            " array([4.78493000e-42, 3.35197433e-41, 2.10041951e-40, 1.33035613e-39,\n",
            "       8.26097017e-39, 5.02917786e-38, 3.00170016e-37, 1.75648159e-36,\n",
            "       1.00769132e-35, 5.66788115e-35, 3.12553937e-34, 1.68982601e-33,\n",
            "       8.95722719e-33, 4.65502067e-32, 2.37185399e-31, 1.18488046e-30,\n",
            "       5.80341139e-30, 2.78686829e-29, 1.31212704e-28, 6.05708710e-28,\n",
            "       2.74146334e-27, 1.21656135e-26, 5.29323103e-26, 2.25811123e-25,\n",
            "       9.44517270e-25, 3.87362065e-24, 1.55764854e-23, 6.14143313e-23,\n",
            "       2.37421802e-22, 8.99963536e-22, 3.34491890e-21, 1.21900545e-20,\n",
            "       4.35600309e-20, 1.52628769e-19, 5.24389060e-19, 1.76662052e-18,\n",
            "       5.83591410e-18, 1.89040191e-17, 6.00458285e-17, 1.87024674e-16,\n",
            "       5.71223972e-16, 1.71084093e-15, 5.02473222e-15, 1.44717439e-14,\n",
            "       4.08731600e-14, 1.13206121e-13, 3.07482992e-13, 8.19024967e-13,\n",
            "       2.13945734e-12, 5.48083090e-12, 1.37699243e-11, 3.39285615e-11,\n",
            "       8.19888417e-11, 1.94315050e-10, 4.51676835e-10, 1.02973755e-09,\n",
            "       2.30255849e-09, 5.04996806e-09, 1.08634884e-08, 2.29225025e-08,\n",
            "       4.74434906e-08, 9.63215545e-08, 1.91828664e-07, 3.74764312e-07,\n",
            "       7.18240420e-07, 1.35039628e-06, 2.49084119e-06, 4.50753073e-06,\n",
            "       8.00303135e-06, 1.39415077e-05, 2.38298669e-05, 3.99676358e-05,\n",
            "       6.57793764e-05, 1.06239551e-04, 1.68391422e-04, 2.61947638e-04,\n",
            "       3.99940036e-04, 5.99360214e-04, 8.81702651e-04, 1.27329228e-03,\n",
            "       1.80525430e-03, 2.51297314e-03, 3.43489717e-03, 4.61058373e-03,\n",
            "       6.07794790e-03, 7.86977809e-03, 1.00097026e-02, 1.25079205e-02,\n",
            "       1.53571257e-02, 1.85291314e-02, 2.19727218e-02, 2.56132015e-02,\n",
            "       2.93539794e-02, 3.30803135e-02, 3.66650954e-02, 3.99762823e-02,\n",
            "       4.28853537e-02, 4.52759993e-02, 4.70521814e-02, 4.81447564e-02,\n",
            "       4.85160009e-02, 4.81616246e-02, 4.71101446e-02, 4.54197907e-02,\n",
            "       4.31733689e-02, 4.04716949e-02, 3.74263056e-02, 3.41521568e-02,\n",
            "       3.07609289e-02, 2.73554217e-02, 2.40253387e-02, 2.08445812e-02,\n",
            "       1.78700088e-02, 1.51414962e-02, 1.26830324e-02, 1.05045711e-02,\n",
            "       8.60433755e-03, 6.97132835e-03, 5.58778604e-03, 4.43148670e-03,\n",
            "       3.47773391e-03, 2.70100313e-03, 2.07622132e-03, 1.57969761e-03,\n",
            "       1.18974132e-03, 8.87015375e-04, 6.54677438e-04, 4.78360503e-04,\n",
            "       3.46039837e-04, 2.47826885e-04, 1.75723147e-04, 1.23359574e-04,\n",
            "       8.57400880e-05, 5.90017670e-05, 4.01992762e-05, 2.71172152e-05,\n",
            "       1.81111766e-05, 1.19763293e-05, 7.84109665e-06, 5.08283790e-06,\n",
            "       3.26221308e-06, 2.07298021e-06, 1.30423198e-06, 8.12440274e-07,\n",
            "       5.01077586e-07, 3.05981695e-07, 1.84996216e-07, 1.10740672e-07,\n",
            "       6.56339210e-08, 3.85146898e-08, 2.23769704e-08, 1.28722054e-08,\n",
            "       7.33130689e-09, 4.13415335e-09, 2.30817332e-09, 1.27593014e-09,\n",
            "       6.98332170e-10, 3.78419629e-10, 2.03030814e-10, 1.07851506e-10,\n",
            "       5.67241809e-11, 2.95383717e-11, 1.52292623e-11, 7.77411469e-12,\n",
            "       3.92907928e-12, 1.96620498e-12, 9.74220704e-13, 4.77839990e-13,\n",
            "       2.32147634e-13, 1.11688436e-13, 5.30686606e-14, 2.50910404e-14,\n",
            "       1.15463195e-14, 5.55111512e-15, 2.33146835e-15, 1.11022302e-15,\n",
            "       5.55111512e-16, 2.22044605e-16, 0.00000000e+00, 0.00000000e+00,\n",
            "       0.00000000e+00, 0.00000000e+00, 0.00000000e+00, 0.00000000e+00,\n",
            "       0.00000000e+00, 0.00000000e+00, 0.00000000e+00, 0.00000000e+00,\n",
            "       0.00000000e+00, 0.00000000e+00, 0.00000000e+00, 0.00000000e+00,\n",
            "       0.00000000e+00, 0.00000000e+00, 0.00000000e+00, 0.00000000e+00,\n",
            "       0.00000000e+00, 0.00000000e+00, 0.00000000e+00, 0.00000000e+00,\n",
            "       0.00000000e+00])]\n"
          ]
        }
      ]
    }
  ]
}